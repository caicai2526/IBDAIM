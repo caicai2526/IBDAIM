{
 "cells": [
  {
   "cell_type": "code",
   "execution_count": null,
   "metadata": {},
   "outputs": [],
   "source": [
    "\n",
    "from collections import namedtuple\n",
    "import multiprocessing\n",
    "import os\n",
    "\n",
    "model_root = 'models-2-class-cd-uc-multicentre'\n",
    "if not os.path.exists(model_root):\n",
    "    os.makedirs(model_root)\n",
    "\n",
    "data_pattern = {'train':r'E:\\Project_Result\\diagnosis_UC_CD\\processing\\Graph_Transformer_patch512' ,'valid': r'F:\\IBD_ZJ\\ZJH_processing'}\n",
    "epoch = 5\n",
    "\n",
    "\n",
    "split_info = r'D:\\Project\\utiles\\models\\split_info_multicentre_2_class_cd_uc'\n",
    "train_f = split_info + r'\\train.txt'\n",
    "val_f = split_info + r'\\val.txt'\n",
    "labels_f = split_info + r'\\labels.txt'\n",
    "model_names = ['densenet121']\n",
    "for model_name in model_names:\n",
    "    params = dict(train=train_f,\n",
    "                valid=val_f,\n",
    "                labels_file=labels_f,\n",
    "                data_pattern=data_pattern,\n",
    "                j=8,\n",
    "                max2use=None,\n",
    "                val_max2use=None,\n",
    "                batch_balance=False,\n",
    "                normalize_method='imagenet',\n",
    "                model_name=model_name,\n",
    "                gpus=[0],\n",
    "                batch_size=32,\n",
    "                epochs=epoch,\n",
    "                init_lr=0.01,\n",
    "                optimizer='sgd',\n",
    "                retrain=None,\n",
    "                model_root=model_root,\n",
    "                add_date=False,\n",
    "                iters_start=0,\n",
    "                iters_verbose=128,\n",
    "                save_per_epoch=False,\n",
    "                pretrained=True)\n",
    "    Args = namedtuple(\"Args\", params)\n",
    "    clf_main(Args(**params))"
   ]
  }
 ],
 "metadata": {
  "kernelspec": {
   "display_name": "CLAM",
   "language": "python",
   "name": "python3"
  },
  "language_info": {
   "codemirror_mode": {
    "name": "ipython",
    "version": 3
   },
   "file_extension": ".py",
   "mimetype": "text/x-python",
   "name": "python",
   "nbconvert_exporter": "python",
   "pygments_lexer": "ipython3",
   "version": "3.9.16"
  }
 },
 "nbformat": 4,
 "nbformat_minor": 2
}
