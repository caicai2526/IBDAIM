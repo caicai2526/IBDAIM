{
 "cells": [
  {
   "cell_type": "code",
   "execution_count": null,
   "id": "a2025640",
   "metadata": {},
   "outputs": [],
   "source": [
    "import pandas as pd\n",
    "import numpy as np\n",
    "import os\n",
    "\n",
    "if not os.path.exists('2-class-multicentre-cd-uc/features'):\n",
    "        os.makedirs('2-class-multicentre-cd-uc/features')\n",
    "# os.makedirs('features')\n",
    "# model_root，模型存放位置\n",
    "model_root = 'models-2-class-cd-uc-multicentre'\n",
    "# model_name设置为自己训练的模型。\n",
    "model_name = 'densenet121'\n",
    "\n",
    "train_log = pd.read_csv(os.path.join(model_root, model_name, 'viz/BST_TRAIN_RESULTS.txt'), sep='\\t',\n",
    "                        names=['fname', 'prob', 'pred', 'gt'])\n",
    "\n",
    "val_log = pd.read_csv(os.path.join(model_root, model_name, 'viz/BST_VAL_RESULTS.txt'), sep='\\t',\n",
    "                      names=['fname', 'prob', 'pred', 'gt'])\n",
    "log = pd.concat([train_log, val_log], axis=0)\n",
    "log['prob'] = list(map(lambda x: x[0] if x[1] == 1 else 1-x[0], np.array(log[['prob', 'pred']])))\n",
    "log['prob'] = log['prob'].round(decimals=2)\n",
    "log[['group']] = log[['fname']].applymap(lambda x: os.path.basename(x).split('_')[0])\n",
    "log.head()\n",
    "display(log)"
   ]
  },
  {
   "cell_type": "code",
   "execution_count": null,
   "id": "bf73c172",
   "metadata": {},
   "outputs": [],
   "source": [
    "import pandas as pd\n",
    "import numpy as np\n",
    "import os\n",
    "\n",
    "if not os.path.exists('3-class-multicentre/features'):\n",
    "        os.makedirs('3-class-multicentre/features')\n",
    "\n",
    "model_root = 'models-3-class-multicentre'\n",
    "model_name = 'densenet121'\n",
    "\n",
    "\n",
    "val_log = pd.read_csv(os.path.join(model_root, model_name, 'viz/BST_VAL_RESULTS.txt'), sep='\\t',\n",
    "                      names=['fname', 'prob', 'pred', 'gt'])\n",
    "log = pd.concat([val_log], axis=0)\n",
    "log['prob'] = list(map(lambda x: x[0] if x[1] == 1 else 1-x[0], np.array(log[['prob', 'pred']])))\n",
    "log['prob'] = log['prob'].round(decimals=2)\n",
    "log[['group']] = log[['fname']].applymap(lambda x: os.path.basename(x).split('_')[0])\n",
    "log.head()\n",
    "display(log)"
   ]
  },
  {
   "cell_type": "code",
   "execution_count": null,
   "id": "a1723ec3",
   "metadata": {},
   "outputs": [],
   "source": [
    "histo_results = key2.key2histogram(log, group_column='group',histo_columns='prob', norm=True)\n",
    "histo_results.to_csv('2-class-multicentre-cd-uc/features/histogram.csv', header=True, index=False)\n",
    "histo_results"
   ]
  },
  {
   "cell_type": "code",
   "execution_count": null,
   "id": "bc562191",
   "metadata": {},
   "outputs": [],
   "source": [
    "tfidf_results = key2.key2tfidf(log, group_column='group',corpus_columns='prob')\n",
    "tfidf_results.to_csv('2-class-multicentre-cd-uc/features/tfidf.csv', header=True, index=False)\n",
    "tfidf_results"
   ]
  },
  {
   "cell_type": "code",
   "execution_count": null,
   "id": "11c2c60d",
   "metadata": {},
   "outputs": [],
   "source": [
    "import pandas as pd\n",
    "\n",
    "results = pd.merge(histo_results, tfidf_results, on='ID', how='inner', suffixes=['_histo', '_tfidf'])\n",
    "results.to_csv('2-class-multicentre-cd-uc/features/histo_tfidf.csv', header=True, index=False)\n",
    "results"
   ]
  }
 ],
 "metadata": {
  "kernelspec": {
   "display_name": "Python 3 (ipykernel)",
   "language": "python",
   "name": "python3"
  },
  "language_info": {
   "codemirror_mode": {
    "name": "ipython",
    "version": 3
   },
   "file_extension": ".py",
   "mimetype": "text/x-python",
   "name": "python",
   "nbconvert_exporter": "python",
   "pygments_lexer": "ipython3",
   "version": "3.9.16"
  }
 },
 "nbformat": 4,
 "nbformat_minor": 5
}
