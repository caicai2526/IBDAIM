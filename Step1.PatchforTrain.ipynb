{
 "cells": [
  {
   "cell_type": "code",
   "execution_count": null,
   "id": "e10397f8",
   "metadata": {},
   "outputs": [],
   "source": [
    "import os\n",
    "import pandas as pd\n",
    "\n",
    "\n",
    "data_pattern = r'E:\\Project_Result\\diagnosis_UC_CD\\processing\\Graph_Transformer_patch512' \n",
    "# data_pattern = r'E:\\Project_Result\\diagnosis_UC_CD\\processing\\test' \n",
    "patches = []\n",
    "for r, ds, fs in os.walk(data_pattern):\n",
    "    patches.extend([os.path.join(r, p) for p in fs if p.endswith('.jpeg')])\n",
    "\n",
    "patches = pd.DataFrame(patches, columns=['fpath'])\n",
    "patches['fname'] = patches['fpath'].map(lambda x: os.path.basename(x))\n",
    "\n",
    "def map2id(x):\n",
    "    x = os.path.basename(x)\n",
    "    *fname_items, w, h, ltx, lty, rbx, rby = x.split('_')\n",
    "    return '_'.join(fname_items)\n",
    "patches['ID'] = patches['fpath'].map(map2id)\n",
    "patches"
   ]
  },
  {
   "cell_type": "code",
   "execution_count": null,
   "id": "d22e7a5f",
   "metadata": {},
   "outputs": [],
   "source": [
    "import os\n",
    "import pandas as pd\n",
    "\n",
    "\n",
    "data_pattern = r'E:\\Project_Result\\diagnosis_UC_CD\\processing\\Graph_Transformer_patch512' \n",
    "# data_pattern = r'E:\\Project_Result\\diagnosis_UC_CD\\processing\\test' \n",
    "patches = []\n",
    "for r, ds, fs in os.walk(data_pattern):\n",
    "    patches.extend([os.path.join(r, p) for p in fs if p.endswith('.jpeg')])\n",
    "\n",
    "data_pattern_test = r'F:\\IBD_ZJ\\ZJH_processing' \n",
    "# data_pattern = r'E:\\Project_Result\\diagnosis_UC_CD\\processing\\test' \n",
    "patches_test = []\n",
    "for r, ds, fs in os.walk(data_pattern_test):\n",
    "    patches_test.extend([os.path.join(r, p) for p in fs if p.endswith('.jpeg')])\n",
    "\n",
    "patches.extend(patches_test)\n",
    "\n",
    "patches = pd.DataFrame(patches, columns=['fpath'])\n",
    "patches['fname'] = patches['fpath'].map(lambda x: os.path.basename(x))\n",
    "\n",
    "def map2id(x):\n",
    "    x = os.path.basename(x)\n",
    "    *fname_items, w, h, ltx, lty, rbx, rby = x.split('_')\n",
    "    return '_'.join(fname_items)\n",
    "patches['ID'] = patches['fpath'].map(map2id)\n",
    "patches"
   ]
  },
  {
   "cell_type": "code",
   "execution_count": null,
   "id": "e47c8510",
   "metadata": {},
   "outputs": [],
   "source": [
    "import os\n",
    "import pandas as pd\n",
    "\n",
    "\n",
    "data_pattern = get_param_in_cwd('data_pattern', os.path.join(okds.ct, 'crop')) \n",
    "patches = []\n",
    "for r, ds, fs in os.walk(data_pattern):\n",
    "    patches.extend([os.path.join(r, p) for p in fs if p.endswith('.jpeg')])\n",
    "patches = pd.DataFrame(patches, columns=['fpath'])\n",
    "patches['fname'] = patches['fpath'].map(lambda x: os.path.basename(x))\n",
    "# cluster_select_patches_path = pd.read_csv(r'E:\\Project_Result\\diagnosis_UC_CD\\processing\\Experimental_process_results\\cluster\\feature_cluster_512dim\\cluster_2\\clusters_compress_features_512.csv')\n",
    "# patches2 = cluster_select_patches_path[cluster_select_patches_path['ID']]\n",
    "def map2id(x):\n",
    "    x = os.path.basename(x)\n",
    "    *fname_items, _, _ = x.split('_')\n",
    "    return '_'.join(fname_items)\n",
    "patches['ID'] = patches['fpath'].map(map2id)\n",
    "patches"
   ]
  },
  {
   "cell_type": "code",
   "execution_count": null,
   "id": "066a6b79",
   "metadata": {},
   "outputs": [],
   "source": [
    "label_f = pd.read_csv(r'E:\\Project_Result\\diagnosis_UC_CD\\processing\\label_CSV\\512\\labels-2-cd-uc-multicenter.csv')\n",
    "label_f['ID'] = label_f['ID'].map(lambda x: str(x))\n",
    "patches = pd.merge(patches, label_f, on='ID', how='inner')\n",
    "patches"
   ]
  },
  {
   "cell_type": "code",
   "execution_count": 3,
   "id": "b8f8a0c1",
   "metadata": {},
   "outputs": [],
   "source": [
    "import numpy as np\n",
    "\n",
    "ugroups = np.unique(patches['group'])\n",
    "for group in ugroups:\n",
    "    group_info = 'train' if group == 'train' else 'val'\n",
    "    patches[patches['group'] == group][['fpath', 'label']].to_csv(os.path.join('split_info_multicentre_2_class_cd_uc', f'{group_info}.txt'), \n",
    "                                                                  index=False, header=False, sep='\\t')"
   ]
  },
  {
   "cell_type": "code",
   "execution_count": null,
   "id": "e8f539e2",
   "metadata": {},
   "outputs": [],
   "source": []
  }
 ],
 "metadata": {
  "kernelspec": {
   "display_name": "Python 3 (ipykernel)",
   "language": "python",
   "name": "python3"
  },
  "language_info": {
   "codemirror_mode": {
    "name": "ipython",
    "version": 3
   },
   "file_extension": ".py",
   "mimetype": "text/x-python",
   "name": "python",
   "nbconvert_exporter": "python",
   "pygments_lexer": "ipython3",
   "version": "3.9.16"
  }
 },
 "nbformat": 4,
 "nbformat_minor": 5
}
